{
 "cells": [
  {
   "cell_type": "code",
   "execution_count": 6,
   "metadata": {},
   "outputs": [],
   "source": [
    "import pandas as pd\n",
    "import numpy as np"
   ]
  },
  {
   "cell_type": "code",
   "execution_count": 5,
   "metadata": {},
   "outputs": [
    {
     "data": {
      "text/html": [
       "<div>\n",
       "<style scoped>\n",
       "    .dataframe tbody tr th:only-of-type {\n",
       "        vertical-align: middle;\n",
       "    }\n",
       "\n",
       "    .dataframe tbody tr th {\n",
       "        vertical-align: top;\n",
       "    }\n",
       "\n",
       "    .dataframe thead th {\n",
       "        text-align: right;\n",
       "    }\n",
       "</style>\n",
       "<table border=\"1\" class=\"dataframe\">\n",
       "  <thead>\n",
       "    <tr style=\"text-align: right;\">\n",
       "      <th></th>\n",
       "      <th>customerID</th>\n",
       "      <th>Churn</th>\n",
       "      <th>customer</th>\n",
       "      <th>phone</th>\n",
       "      <th>internet</th>\n",
       "      <th>account</th>\n",
       "    </tr>\n",
       "  </thead>\n",
       "  <tbody>\n",
       "    <tr>\n",
       "      <th>0</th>\n",
       "      <td>0002-ORFBO</td>\n",
       "      <td>No</td>\n",
       "      <td>{'gender': 'Female', 'SeniorCitizen': 0, 'Part...</td>\n",
       "      <td>{'PhoneService': 'Yes', 'MultipleLines': 'No'}</td>\n",
       "      <td>{'InternetService': 'DSL', 'OnlineSecurity': '...</td>\n",
       "      <td>{'Contract': 'One year', 'PaperlessBilling': '...</td>\n",
       "    </tr>\n",
       "    <tr>\n",
       "      <th>1</th>\n",
       "      <td>0003-MKNFE</td>\n",
       "      <td>No</td>\n",
       "      <td>{'gender': 'Male', 'SeniorCitizen': 0, 'Partne...</td>\n",
       "      <td>{'PhoneService': 'Yes', 'MultipleLines': 'Yes'}</td>\n",
       "      <td>{'InternetService': 'DSL', 'OnlineSecurity': '...</td>\n",
       "      <td>{'Contract': 'Month-to-month', 'PaperlessBilli...</td>\n",
       "    </tr>\n",
       "    <tr>\n",
       "      <th>2</th>\n",
       "      <td>0004-TLHLJ</td>\n",
       "      <td>Yes</td>\n",
       "      <td>{'gender': 'Male', 'SeniorCitizen': 0, 'Partne...</td>\n",
       "      <td>{'PhoneService': 'Yes', 'MultipleLines': 'No'}</td>\n",
       "      <td>{'InternetService': 'Fiber optic', 'OnlineSecu...</td>\n",
       "      <td>{'Contract': 'Month-to-month', 'PaperlessBilli...</td>\n",
       "    </tr>\n",
       "    <tr>\n",
       "      <th>3</th>\n",
       "      <td>0011-IGKFF</td>\n",
       "      <td>Yes</td>\n",
       "      <td>{'gender': 'Male', 'SeniorCitizen': 1, 'Partne...</td>\n",
       "      <td>{'PhoneService': 'Yes', 'MultipleLines': 'No'}</td>\n",
       "      <td>{'InternetService': 'Fiber optic', 'OnlineSecu...</td>\n",
       "      <td>{'Contract': 'Month-to-month', 'PaperlessBilli...</td>\n",
       "    </tr>\n",
       "    <tr>\n",
       "      <th>4</th>\n",
       "      <td>0013-EXCHZ</td>\n",
       "      <td>Yes</td>\n",
       "      <td>{'gender': 'Female', 'SeniorCitizen': 1, 'Part...</td>\n",
       "      <td>{'PhoneService': 'Yes', 'MultipleLines': 'No'}</td>\n",
       "      <td>{'InternetService': 'Fiber optic', 'OnlineSecu...</td>\n",
       "      <td>{'Contract': 'Month-to-month', 'PaperlessBilli...</td>\n",
       "    </tr>\n",
       "    <tr>\n",
       "      <th>...</th>\n",
       "      <td>...</td>\n",
       "      <td>...</td>\n",
       "      <td>...</td>\n",
       "      <td>...</td>\n",
       "      <td>...</td>\n",
       "      <td>...</td>\n",
       "    </tr>\n",
       "    <tr>\n",
       "      <th>7262</th>\n",
       "      <td>9987-LUTYD</td>\n",
       "      <td>No</td>\n",
       "      <td>{'gender': 'Female', 'SeniorCitizen': 0, 'Part...</td>\n",
       "      <td>{'PhoneService': 'Yes', 'MultipleLines': 'No'}</td>\n",
       "      <td>{'InternetService': 'DSL', 'OnlineSecurity': '...</td>\n",
       "      <td>{'Contract': 'One year', 'PaperlessBilling': '...</td>\n",
       "    </tr>\n",
       "    <tr>\n",
       "      <th>7263</th>\n",
       "      <td>9992-RRAMN</td>\n",
       "      <td>Yes</td>\n",
       "      <td>{'gender': 'Male', 'SeniorCitizen': 0, 'Partne...</td>\n",
       "      <td>{'PhoneService': 'Yes', 'MultipleLines': 'Yes'}</td>\n",
       "      <td>{'InternetService': 'Fiber optic', 'OnlineSecu...</td>\n",
       "      <td>{'Contract': 'Month-to-month', 'PaperlessBilli...</td>\n",
       "    </tr>\n",
       "    <tr>\n",
       "      <th>7264</th>\n",
       "      <td>9992-UJOEL</td>\n",
       "      <td>No</td>\n",
       "      <td>{'gender': 'Male', 'SeniorCitizen': 0, 'Partne...</td>\n",
       "      <td>{'PhoneService': 'Yes', 'MultipleLines': 'No'}</td>\n",
       "      <td>{'InternetService': 'DSL', 'OnlineSecurity': '...</td>\n",
       "      <td>{'Contract': 'Month-to-month', 'PaperlessBilli...</td>\n",
       "    </tr>\n",
       "    <tr>\n",
       "      <th>7265</th>\n",
       "      <td>9993-LHIEB</td>\n",
       "      <td>No</td>\n",
       "      <td>{'gender': 'Male', 'SeniorCitizen': 0, 'Partne...</td>\n",
       "      <td>{'PhoneService': 'Yes', 'MultipleLines': 'No'}</td>\n",
       "      <td>{'InternetService': 'DSL', 'OnlineSecurity': '...</td>\n",
       "      <td>{'Contract': 'Two year', 'PaperlessBilling': '...</td>\n",
       "    </tr>\n",
       "    <tr>\n",
       "      <th>7266</th>\n",
       "      <td>9995-HOTOH</td>\n",
       "      <td>No</td>\n",
       "      <td>{'gender': 'Male', 'SeniorCitizen': 0, 'Partne...</td>\n",
       "      <td>{'PhoneService': 'No', 'MultipleLines': 'No ph...</td>\n",
       "      <td>{'InternetService': 'DSL', 'OnlineSecurity': '...</td>\n",
       "      <td>{'Contract': 'Two year', 'PaperlessBilling': '...</td>\n",
       "    </tr>\n",
       "  </tbody>\n",
       "</table>\n",
       "<p>7267 rows × 6 columns</p>\n",
       "</div>"
      ],
      "text/plain": [
       "      customerID Churn                                           customer  \\\n",
       "0     0002-ORFBO    No  {'gender': 'Female', 'SeniorCitizen': 0, 'Part...   \n",
       "1     0003-MKNFE    No  {'gender': 'Male', 'SeniorCitizen': 0, 'Partne...   \n",
       "2     0004-TLHLJ   Yes  {'gender': 'Male', 'SeniorCitizen': 0, 'Partne...   \n",
       "3     0011-IGKFF   Yes  {'gender': 'Male', 'SeniorCitizen': 1, 'Partne...   \n",
       "4     0013-EXCHZ   Yes  {'gender': 'Female', 'SeniorCitizen': 1, 'Part...   \n",
       "...          ...   ...                                                ...   \n",
       "7262  9987-LUTYD    No  {'gender': 'Female', 'SeniorCitizen': 0, 'Part...   \n",
       "7263  9992-RRAMN   Yes  {'gender': 'Male', 'SeniorCitizen': 0, 'Partne...   \n",
       "7264  9992-UJOEL    No  {'gender': 'Male', 'SeniorCitizen': 0, 'Partne...   \n",
       "7265  9993-LHIEB    No  {'gender': 'Male', 'SeniorCitizen': 0, 'Partne...   \n",
       "7266  9995-HOTOH    No  {'gender': 'Male', 'SeniorCitizen': 0, 'Partne...   \n",
       "\n",
       "                                                  phone  \\\n",
       "0        {'PhoneService': 'Yes', 'MultipleLines': 'No'}   \n",
       "1       {'PhoneService': 'Yes', 'MultipleLines': 'Yes'}   \n",
       "2        {'PhoneService': 'Yes', 'MultipleLines': 'No'}   \n",
       "3        {'PhoneService': 'Yes', 'MultipleLines': 'No'}   \n",
       "4        {'PhoneService': 'Yes', 'MultipleLines': 'No'}   \n",
       "...                                                 ...   \n",
       "7262     {'PhoneService': 'Yes', 'MultipleLines': 'No'}   \n",
       "7263    {'PhoneService': 'Yes', 'MultipleLines': 'Yes'}   \n",
       "7264     {'PhoneService': 'Yes', 'MultipleLines': 'No'}   \n",
       "7265     {'PhoneService': 'Yes', 'MultipleLines': 'No'}   \n",
       "7266  {'PhoneService': 'No', 'MultipleLines': 'No ph...   \n",
       "\n",
       "                                               internet  \\\n",
       "0     {'InternetService': 'DSL', 'OnlineSecurity': '...   \n",
       "1     {'InternetService': 'DSL', 'OnlineSecurity': '...   \n",
       "2     {'InternetService': 'Fiber optic', 'OnlineSecu...   \n",
       "3     {'InternetService': 'Fiber optic', 'OnlineSecu...   \n",
       "4     {'InternetService': 'Fiber optic', 'OnlineSecu...   \n",
       "...                                                 ...   \n",
       "7262  {'InternetService': 'DSL', 'OnlineSecurity': '...   \n",
       "7263  {'InternetService': 'Fiber optic', 'OnlineSecu...   \n",
       "7264  {'InternetService': 'DSL', 'OnlineSecurity': '...   \n",
       "7265  {'InternetService': 'DSL', 'OnlineSecurity': '...   \n",
       "7266  {'InternetService': 'DSL', 'OnlineSecurity': '...   \n",
       "\n",
       "                                                account  \n",
       "0     {'Contract': 'One year', 'PaperlessBilling': '...  \n",
       "1     {'Contract': 'Month-to-month', 'PaperlessBilli...  \n",
       "2     {'Contract': 'Month-to-month', 'PaperlessBilli...  \n",
       "3     {'Contract': 'Month-to-month', 'PaperlessBilli...  \n",
       "4     {'Contract': 'Month-to-month', 'PaperlessBilli...  \n",
       "...                                                 ...  \n",
       "7262  {'Contract': 'One year', 'PaperlessBilling': '...  \n",
       "7263  {'Contract': 'Month-to-month', 'PaperlessBilli...  \n",
       "7264  {'Contract': 'Month-to-month', 'PaperlessBilli...  \n",
       "7265  {'Contract': 'Two year', 'PaperlessBilling': '...  \n",
       "7266  {'Contract': 'Two year', 'PaperlessBilling': '...  \n",
       "\n",
       "[7267 rows x 6 columns]"
      ]
     },
     "execution_count": 5,
     "metadata": {},
     "output_type": "execute_result"
    }
   ],
   "source": [
    "dados = pd.read_json('Telco-Customer-Churn.json')\n",
    "dados"
   ]
  },
  {
   "cell_type": "code",
   "execution_count": 8,
   "metadata": {},
   "outputs": [
    {
     "data": {
      "text/plain": [
       "0       0002-ORFBO\n",
       "1       0003-MKNFE\n",
       "2       0004-TLHLJ\n",
       "3       0011-IGKFF\n",
       "4       0013-EXCHZ\n",
       "           ...    \n",
       "7262    9987-LUTYD\n",
       "7263    9992-RRAMN\n",
       "7264    9992-UJOEL\n",
       "7265    9993-LHIEB\n",
       "7266    9995-HOTOH\n",
       "Name: customerID, Length: 7267, dtype: object"
      ]
     },
     "execution_count": 8,
     "metadata": {},
     "output_type": "execute_result"
    }
   ],
   "source": [
    "dados.customerID"
   ]
  },
  {
   "cell_type": "code",
   "execution_count": 10,
   "metadata": {},
   "outputs": [
    {
     "data": {
      "text/plain": [
       "0        No\n",
       "1        No\n",
       "2       Yes\n",
       "3       Yes\n",
       "4       Yes\n",
       "       ... \n",
       "7262     No\n",
       "7263    Yes\n",
       "7264     No\n",
       "7265     No\n",
       "7266     No\n",
       "Name: Churn, Length: 7267, dtype: object"
      ]
     },
     "execution_count": 10,
     "metadata": {},
     "output_type": "execute_result"
    }
   ],
   "source": [
    "dados.Churn"
   ]
  },
  {
   "cell_type": "code",
   "execution_count": 11,
   "metadata": {},
   "outputs": [
    {
     "data": {
      "text/plain": [
       "0       {'gender': 'Female', 'SeniorCitizen': 0, 'Part...\n",
       "1       {'gender': 'Male', 'SeniorCitizen': 0, 'Partne...\n",
       "2       {'gender': 'Male', 'SeniorCitizen': 0, 'Partne...\n",
       "3       {'gender': 'Male', 'SeniorCitizen': 1, 'Partne...\n",
       "4       {'gender': 'Female', 'SeniorCitizen': 1, 'Part...\n",
       "                              ...                        \n",
       "7262    {'gender': 'Female', 'SeniorCitizen': 0, 'Part...\n",
       "7263    {'gender': 'Male', 'SeniorCitizen': 0, 'Partne...\n",
       "7264    {'gender': 'Male', 'SeniorCitizen': 0, 'Partne...\n",
       "7265    {'gender': 'Male', 'SeniorCitizen': 0, 'Partne...\n",
       "7266    {'gender': 'Male', 'SeniorCitizen': 0, 'Partne...\n",
       "Name: customer, Length: 7267, dtype: object"
      ]
     },
     "execution_count": 11,
     "metadata": {},
     "output_type": "execute_result"
    }
   ],
   "source": [
    "dados['customer']"
   ]
  },
  {
   "cell_type": "code",
   "execution_count": 12,
   "metadata": {},
   "outputs": [
    {
     "data": {
      "text/plain": [
       "0          {'PhoneService': 'Yes', 'MultipleLines': 'No'}\n",
       "1         {'PhoneService': 'Yes', 'MultipleLines': 'Yes'}\n",
       "2          {'PhoneService': 'Yes', 'MultipleLines': 'No'}\n",
       "3          {'PhoneService': 'Yes', 'MultipleLines': 'No'}\n",
       "4          {'PhoneService': 'Yes', 'MultipleLines': 'No'}\n",
       "                              ...                        \n",
       "7262       {'PhoneService': 'Yes', 'MultipleLines': 'No'}\n",
       "7263      {'PhoneService': 'Yes', 'MultipleLines': 'Yes'}\n",
       "7264       {'PhoneService': 'Yes', 'MultipleLines': 'No'}\n",
       "7265       {'PhoneService': 'Yes', 'MultipleLines': 'No'}\n",
       "7266    {'PhoneService': 'No', 'MultipleLines': 'No ph...\n",
       "Name: phone, Length: 7267, dtype: object"
      ]
     },
     "execution_count": 12,
     "metadata": {},
     "output_type": "execute_result"
    }
   ],
   "source": [
    "dados.phone"
   ]
  },
  {
   "cell_type": "code",
   "execution_count": 13,
   "metadata": {},
   "outputs": [
    {
     "data": {
      "text/plain": [
       "0       {'InternetService': 'DSL', 'OnlineSecurity': '...\n",
       "1       {'InternetService': 'DSL', 'OnlineSecurity': '...\n",
       "2       {'InternetService': 'Fiber optic', 'OnlineSecu...\n",
       "3       {'InternetService': 'Fiber optic', 'OnlineSecu...\n",
       "4       {'InternetService': 'Fiber optic', 'OnlineSecu...\n",
       "                              ...                        \n",
       "7262    {'InternetService': 'DSL', 'OnlineSecurity': '...\n",
       "7263    {'InternetService': 'Fiber optic', 'OnlineSecu...\n",
       "7264    {'InternetService': 'DSL', 'OnlineSecurity': '...\n",
       "7265    {'InternetService': 'DSL', 'OnlineSecurity': '...\n",
       "7266    {'InternetService': 'DSL', 'OnlineSecurity': '...\n",
       "Name: internet, Length: 7267, dtype: object"
      ]
     },
     "execution_count": 13,
     "metadata": {},
     "output_type": "execute_result"
    }
   ],
   "source": [
    "dados.internet"
   ]
  },
  {
   "cell_type": "code",
   "execution_count": 14,
   "metadata": {},
   "outputs": [
    {
     "data": {
      "text/plain": [
       "0       {'Contract': 'One year', 'PaperlessBilling': '...\n",
       "1       {'Contract': 'Month-to-month', 'PaperlessBilli...\n",
       "2       {'Contract': 'Month-to-month', 'PaperlessBilli...\n",
       "3       {'Contract': 'Month-to-month', 'PaperlessBilli...\n",
       "4       {'Contract': 'Month-to-month', 'PaperlessBilli...\n",
       "                              ...                        \n",
       "7262    {'Contract': 'One year', 'PaperlessBilling': '...\n",
       "7263    {'Contract': 'Month-to-month', 'PaperlessBilli...\n",
       "7264    {'Contract': 'Month-to-month', 'PaperlessBilli...\n",
       "7265    {'Contract': 'Two year', 'PaperlessBilling': '...\n",
       "7266    {'Contract': 'Two year', 'PaperlessBilling': '...\n",
       "Name: account, Length: 7267, dtype: object"
      ]
     },
     "execution_count": 14,
     "metadata": {},
     "output_type": "execute_result"
    }
   ],
   "source": [
    "dados.account"
   ]
  },
  {
   "cell_type": "code",
   "execution_count": 24,
   "metadata": {},
   "outputs": [],
   "source": [
    "dados_normal2 = pd.json_normalize(data = dados)"
   ]
  },
  {
   "cell_type": "code",
   "execution_count": 26,
   "metadata": {},
   "outputs": [
    {
     "ename": "KeyError",
     "evalue": "1",
     "output_type": "error",
     "traceback": [
      "\u001b[1;31m---------------------------------------------------------------------------\u001b[0m",
      "\u001b[1;31mKeyError\u001b[0m                                  Traceback (most recent call last)",
      "File \u001b[1;32m~\\AppData\\Local\\Packages\\PythonSoftwareFoundation.Python.3.10_qbz5n2kfra8p0\\LocalCache\\local-packages\\Python310\\site-packages\\pandas\\core\\indexes\\base.py:3629\u001b[0m, in \u001b[0;36mIndex.get_loc\u001b[1;34m(self, key, method, tolerance)\u001b[0m\n\u001b[0;32m   3628\u001b[0m \u001b[39mtry\u001b[39;00m:\n\u001b[1;32m-> 3629\u001b[0m     \u001b[39mreturn\u001b[39;00m \u001b[39mself\u001b[39;49m\u001b[39m.\u001b[39;49m_engine\u001b[39m.\u001b[39;49mget_loc(casted_key)\n\u001b[0;32m   3630\u001b[0m \u001b[39mexcept\u001b[39;00m \u001b[39mKeyError\u001b[39;00m \u001b[39mas\u001b[39;00m err:\n",
      "File \u001b[1;32m~\\AppData\\Local\\Packages\\PythonSoftwareFoundation.Python.3.10_qbz5n2kfra8p0\\LocalCache\\local-packages\\Python310\\site-packages\\pandas\\_libs\\index.pyx:136\u001b[0m, in \u001b[0;36mpandas._libs.index.IndexEngine.get_loc\u001b[1;34m()\u001b[0m\n",
      "File \u001b[1;32m~\\AppData\\Local\\Packages\\PythonSoftwareFoundation.Python.3.10_qbz5n2kfra8p0\\LocalCache\\local-packages\\Python310\\site-packages\\pandas\\_libs\\index.pyx:163\u001b[0m, in \u001b[0;36mpandas._libs.index.IndexEngine.get_loc\u001b[1;34m()\u001b[0m\n",
      "File \u001b[1;32mpandas\\_libs\\hashtable_class_helper.pxi:5198\u001b[0m, in \u001b[0;36mpandas._libs.hashtable.PyObjectHashTable.get_item\u001b[1;34m()\u001b[0m\n",
      "File \u001b[1;32mpandas\\_libs\\hashtable_class_helper.pxi:5206\u001b[0m, in \u001b[0;36mpandas._libs.hashtable.PyObjectHashTable.get_item\u001b[1;34m()\u001b[0m\n",
      "\u001b[1;31mKeyError\u001b[0m: 1",
      "\nThe above exception was the direct cause of the following exception:\n",
      "\u001b[1;31mKeyError\u001b[0m                                  Traceback (most recent call last)",
      "\u001b[1;32mc:\\Users\\Marlon\\Documents\\MeusProjetos\\chalenger_Alura\\challenger_alura.ipynb Célula 10\u001b[0m in \u001b[0;36m1\n\u001b[1;32m----> <a href='vscode-notebook-cell:/c%3A/Users/Marlon/Documents/MeusProjetos/chalenger_Alura/challenger_alura.ipynb#X16sZmlsZQ%3D%3D?line=0'>1</a>\u001b[0m dados_normal2[\u001b[39m1\u001b[39;49m]\n",
      "File \u001b[1;32m~\\AppData\\Local\\Packages\\PythonSoftwareFoundation.Python.3.10_qbz5n2kfra8p0\\LocalCache\\local-packages\\Python310\\site-packages\\pandas\\core\\frame.py:3505\u001b[0m, in \u001b[0;36mDataFrame.__getitem__\u001b[1;34m(self, key)\u001b[0m\n\u001b[0;32m   3503\u001b[0m \u001b[39mif\u001b[39;00m \u001b[39mself\u001b[39m\u001b[39m.\u001b[39mcolumns\u001b[39m.\u001b[39mnlevels \u001b[39m>\u001b[39m \u001b[39m1\u001b[39m:\n\u001b[0;32m   3504\u001b[0m     \u001b[39mreturn\u001b[39;00m \u001b[39mself\u001b[39m\u001b[39m.\u001b[39m_getitem_multilevel(key)\n\u001b[1;32m-> 3505\u001b[0m indexer \u001b[39m=\u001b[39m \u001b[39mself\u001b[39;49m\u001b[39m.\u001b[39;49mcolumns\u001b[39m.\u001b[39;49mget_loc(key)\n\u001b[0;32m   3506\u001b[0m \u001b[39mif\u001b[39;00m is_integer(indexer):\n\u001b[0;32m   3507\u001b[0m     indexer \u001b[39m=\u001b[39m [indexer]\n",
      "File \u001b[1;32m~\\AppData\\Local\\Packages\\PythonSoftwareFoundation.Python.3.10_qbz5n2kfra8p0\\LocalCache\\local-packages\\Python310\\site-packages\\pandas\\core\\indexes\\base.py:3631\u001b[0m, in \u001b[0;36mIndex.get_loc\u001b[1;34m(self, key, method, tolerance)\u001b[0m\n\u001b[0;32m   3629\u001b[0m     \u001b[39mreturn\u001b[39;00m \u001b[39mself\u001b[39m\u001b[39m.\u001b[39m_engine\u001b[39m.\u001b[39mget_loc(casted_key)\n\u001b[0;32m   3630\u001b[0m \u001b[39mexcept\u001b[39;00m \u001b[39mKeyError\u001b[39;00m \u001b[39mas\u001b[39;00m err:\n\u001b[1;32m-> 3631\u001b[0m     \u001b[39mraise\u001b[39;00m \u001b[39mKeyError\u001b[39;00m(key) \u001b[39mfrom\u001b[39;00m \u001b[39merr\u001b[39;00m\n\u001b[0;32m   3632\u001b[0m \u001b[39mexcept\u001b[39;00m \u001b[39mTypeError\u001b[39;00m:\n\u001b[0;32m   3633\u001b[0m     \u001b[39m# If we have a listlike key, _check_indexing_error will raise\u001b[39;00m\n\u001b[0;32m   3634\u001b[0m     \u001b[39m#  InvalidIndexError. Otherwise we fall through and re-raise\u001b[39;00m\n\u001b[0;32m   3635\u001b[0m     \u001b[39m#  the TypeError.\u001b[39;00m\n\u001b[0;32m   3636\u001b[0m     \u001b[39mself\u001b[39m\u001b[39m.\u001b[39m_check_indexing_error(key)\n",
      "\u001b[1;31mKeyError\u001b[0m: 1"
     ]
    }
   ],
   "source": [
    "dados_normal2[1]"
   ]
  },
  {
   "cell_type": "code",
   "execution_count": null,
   "metadata": {},
   "outputs": [],
   "source": []
  }
 ],
 "metadata": {
  "kernelspec": {
   "display_name": "Python 3",
   "language": "python",
   "name": "python3"
  },
  "language_info": {
   "codemirror_mode": {
    "name": "ipython",
    "version": 3
   },
   "file_extension": ".py",
   "mimetype": "text/x-python",
   "name": "python",
   "nbconvert_exporter": "python",
   "pygments_lexer": "ipython3",
   "version": "3.10.10"
  },
  "orig_nbformat": 4
 },
 "nbformat": 4,
 "nbformat_minor": 2
}
